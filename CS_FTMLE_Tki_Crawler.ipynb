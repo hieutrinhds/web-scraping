{
  "nbformat": 4,
  "nbformat_minor": 0,
  "metadata": {
    "colab": {
      "name": "CS_FTMLE_Tki_Crawler.ipynb",
      "provenance": [],
      "authorship_tag": "ABX9TyMOF7ADNVDuc6tOwmJIyGd9",
      "include_colab_link": true
    },
    "kernelspec": {
      "name": "python3",
      "display_name": "Python 3"
    }
  },
  "cells": [
    {
      "cell_type": "markdown",
      "metadata": {
        "id": "view-in-github",
        "colab_type": "text"
      },
      "source": [
        "<a href=\"https://colab.research.google.com/github/hieutrinhds/web-scraping/blob/master/CS_FTMLE_Tki_Crawler.ipynb\" target=\"_parent\"><img src=\"https://colab.research.google.com/assets/colab-badge.svg\" alt=\"Open In Colab\"/></a>"
      ]
    },
    {
      "cell_type": "code",
      "metadata": {
        "id": "-cDcnHQsoFsi",
        "colab_type": "code",
        "colab": {}
      },
      "source": [
        "from bs4 import BeautifulSoup\n",
        "import requests\n",
        "import sqlite3\n",
        "import re"
      ],
      "execution_count": 0,
      "outputs": []
    },
    {
      "cell_type": "code",
      "metadata": {
        "id": "iBNfXfezoOlC",
        "colab_type": "code",
        "colab": {}
      },
      "source": [
        "TIKI_URL = \"https://tiki.vn\""
      ],
      "execution_count": 0,
      "outputs": []
    },
    {
      "cell_type": "code",
      "metadata": {
        "id": "Xa549NxpoT7t",
        "colab_type": "code",
        "colab": {}
      },
      "source": [
        "conn = sqlite3.connect('tiki.db')\n",
        "cur = conn.cursor()"
      ],
      "execution_count": 0,
      "outputs": []
    },
    {
      "cell_type": "code",
      "metadata": {
        "id": "_JTLwvRtolrl",
        "colab_type": "code",
        "colab": {}
      },
      "source": [
        "# Create table catergories in the database\n",
        "def create_categories_table():\n",
        "    query = \"\"\"\n",
        "        CREATE TABLE IF NOT EXISTS categories (\n",
        "            id INTEGER PRIMARY KEY AUTOINCREMENT,\n",
        "            name VARCHAR(255),\n",
        "            url TEXT,\n",
        "            parent_id INTEGER,\n",
        "            create_at TIMESTAMP DEFAULT CURRENT_TIMESTAMP\n",
        "        )\n",
        "    \"\"\"\n",
        "    try:\n",
        "        cur.execute(query)\n",
        "    except Exception as err:\n",
        "        print('ERROR BY CREATE TABLE')\n",
        "create_categories_table()"
      ],
      "execution_count": 0,
      "outputs": []
    },
    {
      "cell_type": "code",
      "metadata": {
        "id": "YT9mDpm146_d",
        "colab_type": "code",
        "colab": {}
      },
      "source": [
        "# Insert a row of data\n",
        "query = \"\"\"\n",
        "    INSERT INTO categories (name, url, parent_id)\n",
        "    VALUES (?, ?, ?);\n",
        "    \"\"\"\n",
        "val = ('test', 'test_url', 1)\n",
        "try:\n",
        "    cur.execute(query, val)\n",
        "    cat_id = cur.lastrowid\n",
        "except Exception as err:\n",
        "    print('ERROR BY INSERT:', err)"
      ],
      "execution_count": 0,
      "outputs": []
    },
    {
      "cell_type": "code",
      "metadata": {
        "id": "13L1xNy_oyDu",
        "colab_type": "code",
        "colab": {}
      },
      "source": [
        "# Create a class Category\n",
        "# attributes: name, url, parent_id\n",
        "# instance method: save_into_db()\n",
        "class Category:\n",
        "    def __init__(self, name, url, parent_id=None, cat_id=None):    \n",
        "        self.cat_id = cat_id\n",
        "        self.name = name\n",
        "        self.url = url\n",
        "        self.parent_id = parent_id\n",
        "\n",
        "    def __repr__(self):\n",
        "        return f\"ID; {self.cat_id}, Name: {self.name}, URL: {self.url}, Parent: {self.parent_id}\" \n",
        "\n",
        "    def save_into_db(self):\n",
        "        query = '''\n",
        "            INSERT INTO categories (name, url, parent_id)\n",
        "            VALUES (?, ?, ?);\n",
        "            '''\n",
        "        val = (self.name, self.url, self.parent_id)\n",
        "        try:\n",
        "            cur.execute(query, val)\n",
        "            self.cat_id = cur.lastrowid\n",
        "        except Exception as err:\n",
        "            print('ERROR BY INSERT:', err)\n"
      ],
      "execution_count": 0,
      "outputs": []
    },
    {
      "cell_type": "code",
      "metadata": {
        "id": "unJyLwUJpJGt",
        "colab_type": "code",
        "colab": {}
      },
      "source": [
        "# Get the HTML content get_url()\n",
        "def get_url(url):\n",
        "    try:\n",
        "        r = requests.get(url).text\n",
        "        soup = BeautifulSoup(r, 'html.parser')\n",
        "    except:\n",
        "        pass\n",
        "    return soup"
      ],
      "execution_count": 0,
      "outputs": []
    },
    {
      "cell_type": "code",
      "metadata": {
        "id": "wr5FRPehpNAN",
        "colab_type": "code",
        "colab": {}
      },
      "source": [
        "# get_main_categories()\n",
        "def get_main_categories(save_db=False):\n",
        "    soup = get_url(TIKI_URL)\n",
        "\n",
        "    result = []\n",
        "    for a_tag in soup.find_all('a', {'class': 'MenuItem__MenuLink-sc-181aa19-1 fKvTQu'}):\n",
        "        name = a_tag.find('span', {'class':'text'}).text\n",
        "        url = a_tag['href']\n",
        "        main_cat = Category(name, url)\n",
        "\n",
        "        if save_db:\n",
        "            main_cat.save_into_db()\n",
        "        result.append(main_cat)\n",
        "    return result"
      ],
      "execution_count": 0,
      "outputs": []
    },
    {
      "cell_type": "code",
      "metadata": {
        "id": "IU0jVzDdwPug",
        "colab_type": "code",
        "colab": {
          "base_uri": "https://localhost:8080/",
          "height": 309
        },
        "outputId": "47e03f39-2cda-4ba2-e414-48de11923e87"
      },
      "source": [
        "main_categories = get_main_categories(save_db=True)\n",
        "main_categories"
      ],
      "execution_count": 95,
      "outputs": [
        {
          "output_type": "execute_result",
          "data": {
            "text/plain": [
              "[ID; 54, Name: Điện Thoại - Máy Tính Bảng, URL: https://tiki.vn/dien-thoai-may-tinh-bang/c1789?src=c.1789.hamburger_menu_fly_out_banner, Parent: None,\n",
              " ID; 55, Name: Điện Tử - Điện Lạnh, URL: https://tiki.vn/tivi-thiet-bi-nghe-nhin/c4221?src=c.4221.hamburger_menu_fly_out_banner, Parent: None,\n",
              " ID; 56, Name: Phụ Kiện - Thiết Bị Số, URL: https://tiki.vn/thiet-bi-kts-phu-kien-so/c1815?src=c.1815.hamburger_menu_fly_out_banner, Parent: None,\n",
              " ID; 57, Name: Laptop - Thiết bị IT, URL: https://tiki.vn/laptop-may-vi-tinh/c1846?src=c.1846.hamburger_menu_fly_out_banner, Parent: None,\n",
              " ID; 58, Name: Máy Ảnh - Quay Phim, URL: https://tiki.vn/may-anh/c1801?src=c.1801.hamburger_menu_fly_out_banner, Parent: None,\n",
              " ID; 59, Name: Điện Gia Dụng, URL: https://tiki.vn/dien-gia-dung/c1882?src=c.1882.hamburger_menu_fly_out_banner, Parent: None,\n",
              " ID; 60, Name: Nhà Cửa Đời Sống, URL: https://tiki.vn/nha-cua-doi-song/c1883?src=c.1883.hamburger_menu_fly_out_banner, Parent: None,\n",
              " ID; 61, Name: Hàng Tiêu Dùng - Thực Phẩm, URL: https://tiki.vn/bach-hoa-online/c4384?src=c.4384.hamburger_menu_fly_out_banner, Parent: None,\n",
              " ID; 62, Name: Đồ chơi, Mẹ & Bé, URL: https://tiki.vn/me-va-be/c2549?src=c.2549.hamburger_menu_fly_out_banner, Parent: None,\n",
              " ID; 63, Name: Làm Đẹp - Sức Khỏe, URL: https://tiki.vn/lam-dep-suc-khoe/c1520?src=c.1520.hamburger_menu_fly_out_banner, Parent: None,\n",
              " ID; 64, Name: Thời trang - Phụ kiện, URL: https://tiki.vn/thoi-trang/c914?src=c.914.hamburger_menu_fly_out_banner, Parent: None,\n",
              " ID; 65, Name: Thể Thao - Dã Ngoại, URL: https://tiki.vn/the-thao/c1975?src=c.1975.hamburger_menu_fly_out_banner, Parent: None,\n",
              " ID; 66, Name: Xe Máy, Ô tô, Xe Đạp, URL: https://tiki.vn/o-to-xe-may-xe-dap/c8594?src=c.8594.hamburger_menu_fly_out_banner, Parent: None,\n",
              " ID; 67, Name: Hàng quốc tế, URL: https://tiki.vn/hang-quoc-te/c17166?src=c.17166.hamburger_menu_fly_out_banner, Parent: None,\n",
              " ID; 68, Name: Sách, VPP & Quà Tặng, URL: https://tiki.vn/nha-sach-tiki/c8322?src=c.8322.hamburger_menu_fly_out_banner, Parent: None,\n",
              " ID; 69, Name: Voucher - Dịch Vụ - Thẻ Cào, URL: https://tiki.vn/voucher-dich-vu/c11312?src=c.11312.hamburger_menu_fly_out_banner, Parent: None]"
            ]
          },
          "metadata": {
            "tags": []
          },
          "execution_count": 95
        }
      ]
    },
    {
      "cell_type": "code",
      "metadata": {
        "id": "tBUovpe0pTdF",
        "colab_type": "code",
        "colab": {}
      },
      "source": [
        "# get_sub_categories() given a parent category URL\n",
        "def get_sub_categories(parent_category, save_db=False):\n",
        "    \n",
        "    url = parent_category.url\n",
        "    result = []\n",
        "\n",
        "    try:\n",
        "        soup = get_url(url)\n",
        "        div_containers = soup.find_all('div', {'class':'list-group-item is-child'})\n",
        "        for div in div_containers:\n",
        "            name = div.a.text\n",
        "            name = re.sub('\\s{2,}', ' ', name)\n",
        "            url = TIKI_URL + div.a['href']\n",
        "            cat = Category(name, url, parent_category.cat_id)\n",
        "            if save_db:\n",
        "                cat.save_into_db()\n",
        "            result.append(cat)\n",
        "    except Exception as err:\n",
        "        print('ERROR BY GET SUB CATEGORIES:', err)\n",
        "    return result"
      ],
      "execution_count": 0,
      "outputs": []
    },
    {
      "cell_type": "code",
      "metadata": {
        "id": "b3yLxIIV-TiZ",
        "colab_type": "code",
        "colab": {
          "base_uri": "https://localhost:8080/",
          "height": 187
        },
        "outputId": "0ef5c86b-c0f1-4407-eef8-d71b5f4fdaa0"
      },
      "source": [
        "get_sub_categories(main_categories[0], save_db=True)"
      ],
      "execution_count": 98,
      "outputs": [
        {
          "output_type": "execute_result",
          "data": {
            "text/plain": [
              "[ID; 70, Name:  Máy tính bảng (55)\n",
              " , URL: https://tiki.vn/may-tinh-bang/c1794?src=c.1789.hamburger_menu_fly_out_banner, Parent: 54,\n",
              " ID; 71, Name:  Máy đọc sách (30)\n",
              " , URL: https://tiki.vn/may-doc-sach/c28856?src=c.1789.hamburger_menu_fly_out_banner, Parent: 54,\n",
              " ID; 72, Name:  Điện thoại Smartphone (190)\n",
              " , URL: https://tiki.vn/dien-thoai-smartphone/c1795?src=c.1789.hamburger_menu_fly_out_banner, Parent: 54,\n",
              " ID; 73, Name:  Điện thoại bàn (108)\n",
              " , URL: https://tiki.vn/dien-thoai-ban/c8061?src=c.1789.hamburger_menu_fly_out_banner, Parent: 54,\n",
              " ID; 74, Name:  Điện thoại phổ thông (91)\n",
              " , URL: https://tiki.vn/dien-thoai-pho-thong/c1796?src=c.1789.hamburger_menu_fly_out_banner, Parent: 54]"
            ]
          },
          "metadata": {
            "tags": []
          },
          "execution_count": 98
        }
      ]
    },
    {
      "cell_type": "code",
      "metadata": {
        "id": "t7is2kw1pZtB",
        "colab_type": "code",
        "colab": {}
      },
      "source": [
        "# get_all_categories() given a list of main categories\n",
        "def get_all_categories(categories):\n",
        "    if len(categories) == 0:\n",
        "        return\n",
        "    for cat in categories:\n",
        "        sub_categories = get_sub_categories(cat)\n",
        "        print(sub_categories)\n",
        "        get_all_categories(sub_categories)"
      ],
      "execution_count": 0,
      "outputs": []
    },
    {
      "cell_type": "code",
      "metadata": {
        "id": "4Y7yLFjrphyF",
        "colab_type": "code",
        "colab": {}
      },
      "source": [
        ""
      ],
      "execution_count": 0,
      "outputs": []
    }
  ]
}