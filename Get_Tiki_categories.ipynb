{
  "nbformat": 4,
  "nbformat_minor": 0,
  "metadata": {
    "colab": {
      "name": "Get Tiki categories.ipynb",
      "provenance": [],
      "collapsed_sections": [],
      "include_colab_link": true
    },
    "kernelspec": {
      "name": "python3",
      "display_name": "Python 3"
    }
  },
  "cells": [
    {
      "cell_type": "markdown",
      "metadata": {
        "id": "view-in-github",
        "colab_type": "text"
      },
      "source": [
        "<a href=\"https://colab.research.google.com/github/hieutrinhds/web-scraping/blob/master/Get_Tiki_categories.ipynb\" target=\"_parent\"><img src=\"https://colab.research.google.com/assets/colab-badge.svg\" alt=\"Open In Colab\"/></a>"
      ]
    },
    {
      "cell_type": "code",
      "metadata": {
        "id": "EwNZ75_snIgY",
        "colab_type": "code",
        "colab": {}
      },
      "source": [
        "from bs4 import BeautifulSoup\n",
        "import requests\n",
        "import sqlite3\n",
        "\n",
        "TIKI_URL = 'https://tiki.vn'"
      ],
      "execution_count": 0,
      "outputs": []
    },
    {
      "cell_type": "code",
      "metadata": {
        "id": "FpP2KILTnjwu",
        "colab_type": "code",
        "colab": {}
      },
      "source": [
        "conn = sqlite3.connect('tiki.db')\n",
        "cur = conn.cursor()"
      ],
      "execution_count": 0,
      "outputs": []
    },
    {
      "cell_type": "code",
      "metadata": {
        "id": "5zkXyKVhnq4T",
        "colab_type": "code",
        "colab": {}
      },
      "source": [
        "# Create table categories in the database\n",
        "def create_categories_table():\n",
        "    query = \"\"\"\n",
        "        CREATE TABLE IF NOT EXISTS categories (\n",
        "            id INTEGER PRIMARY KEY AUTOINCREMENT,\n",
        "            name VARCHAR(255),\n",
        "            url TEXT, \n",
        "            parent_id INTEGER, \n",
        "            create_at TIMESTAMP DEFAULT CURRENT_TIMESTAMP\n",
        "        )\n",
        "    \"\"\"\n",
        "    try:\n",
        "        cur.execute(query)\n",
        "    except Exception as err:\n",
        "        print('ERROR BY CREATE TABLE', err)\n",
        "create_categories_table()"
      ],
      "execution_count": 0,
      "outputs": []
    },
    {
      "cell_type": "code",
      "metadata": {
        "id": "PW3PA2nip0H5",
        "colab_type": "code",
        "colab": {}
      },
      "source": [
        "# Insert a row of data\n",
        "query = \"\"\"\n",
        "    INSERT INTO categories (name, url, parent_id)\n",
        "    VALUES (?, ?, ?);\n",
        "\"\"\"\n",
        "val = ('test','test_url', 1)\n",
        "try:\n",
        "    cur.execute(query, val)\n",
        "    cat_id = cur.lastrowid\n",
        "except Exception as err:\n",
        "    print('ERROR BY INSERT:', err)"
      ],
      "execution_count": 0,
      "outputs": []
    },
    {
      "cell_type": "code",
      "metadata": {
        "id": "msAxsSRPp-iI",
        "colab_type": "code",
        "colab": {}
      },
      "source": [
        "cur.execute('SELECT * FROM categories;').fetchall()"
      ],
      "execution_count": 0,
      "outputs": []
    },
    {
      "cell_type": "code",
      "metadata": {
        "id": "3zuuPMBGqTfE",
        "colab_type": "code",
        "outputId": "99034f8d-e274-4156-95ee-47368321edf7",
        "colab": {
          "base_uri": "https://localhost:8080/",
          "height": 34
        }
      },
      "source": [
        "cur.execute('DROP TABLE categories;')"
      ],
      "execution_count": 0,
      "outputs": [
        {
          "output_type": "execute_result",
          "data": {
            "text/plain": [
              "<sqlite3.Cursor at 0x7f80d62161f0>"
            ]
          },
          "metadata": {
            "tags": []
          },
          "execution_count": 14
        }
      ]
    },
    {
      "cell_type": "code",
      "metadata": {
        "id": "kPKGkzyloFsJ",
        "colab_type": "code",
        "outputId": "026e6a70-e717-492b-f914-d396de324934",
        "colab": {
          "base_uri": "https://localhost:8080/",
          "height": 85
        }
      },
      "source": [
        "# Create a class Category\n",
        "# attributes: name, url, parent_id\n",
        "# instance method: save_into_db()\n",
        "class Category:\n",
        "    def __init__(self, name, url, parent_id=None, cat_id=None):\n",
        "        self.cat_id = cat_id\n",
        "        self.name = name\n",
        "        self.url = url\n",
        "        self.parent_id = parent_id\n",
        "\n",
        "    def __repr__(self):\n",
        "        return f\"ID: {self.cat_id}, Name: {self.name}, URL: {self.url}, Parent: {self.parent_id}\"\n",
        "\n",
        "    def save_into_db(self):\n",
        "        query = \"\"\"\n",
        "            INSERT INTO categories (name, url, parent_id)\n",
        "            VALUES (?, ?, ?);\n",
        "        \"\"\"\n",
        "        val = (self.name, self.url, self.parent_id)\n",
        "        try:\n",
        "            cur.execute(query, val)\n",
        "            self.cat_id = cur.lastrowid\n",
        "        except Exception as err:\n",
        "            print('ERROR BY INSERT:', err)\n",
        "\n",
        "cat1 = Category('Test', 'Test URL')\n",
        "cat1.save_into_db()\n",
        "print(cat1.cat_id)\n",
        "cur.execute('SELECT * FROM categories;').fetchall()"
      ],
      "execution_count": 0,
      "outputs": [
        {
          "output_type": "stream",
          "text": [
            "3\n"
          ],
          "name": "stdout"
        },
        {
          "output_type": "execute_result",
          "data": {
            "text/plain": [
              "[(1, 'Test', 'Test URL', None, '2020-05-29 04:27:51'),\n",
              " (2, 'Test', 'Test URL', None, '2020-05-29 04:29:47'),\n",
              " (3, 'Test', 'Test URL', None, '2020-05-29 04:30:09')]"
            ]
          },
          "metadata": {
            "tags": []
          },
          "execution_count": 24
        }
      ]
    },
    {
      "cell_type": "code",
      "metadata": {
        "id": "JV7X_CDMshoF",
        "colab_type": "code",
        "outputId": "a939a2d1-1e8d-4065-c748-128629772053",
        "colab": {
          "base_uri": "https://localhost:8080/",
          "height": 34
        }
      },
      "source": [
        "print(cat1)"
      ],
      "execution_count": 0,
      "outputs": [
        {
          "output_type": "stream",
          "text": [
            "ID: 3, Name: Test, URL: Test URL, Parent: None\n"
          ],
          "name": "stdout"
        }
      ]
    },
    {
      "cell_type": "code",
      "metadata": {
        "id": "clkgiradoc9u",
        "colab_type": "code",
        "colab": {}
      },
      "source": [
        "# Get the HTML content get_url()\n",
        "def get_url(url):\n",
        "    try:\n",
        "        response = requests.get(url).text\n",
        "        soup = BeautifulSoup(response, 'html.parser')\n",
        "        return soup\n",
        "    except Exception as err:\n",
        "        print('ERROR BY REQUEST:', err)\n",
        "get_url(TIKI_URL)"
      ],
      "execution_count": 0,
      "outputs": []
    },
    {
      "cell_type": "code",
      "metadata": {
        "id": "5UrCWIzwokdN",
        "colab_type": "code",
        "colab": {}
      },
      "source": [
        "# get_main_categories()\n",
        "def get_main_categories(save_db=False):\n",
        "    soup = get_url(TIKI_URL)\n",
        "\n",
        "    result = []\n",
        "    for a in soup.find_all('a', {'class': 'MenuItem__MenuLink-sc-181aa19-1 fKvTQu'}):\n",
        "        name = a.find('span', {'class': 'text'}).text\n",
        "        url = a['href']\n",
        "        main_cat = Category(name, url)\n",
        "\n",
        "        if save_db:\n",
        "            main_cat.save_into_db()\n",
        "        result.append(main_cat)\n",
        "    return result"
      ],
      "execution_count": 0,
      "outputs": []
    },
    {
      "cell_type": "code",
      "metadata": {
        "id": "10n5nmy3vOLR",
        "colab_type": "code",
        "outputId": "cd313d84-64a1-4340-b59e-d237c0f3720f",
        "colab": {
          "base_uri": "https://localhost:8080/",
          "height": 309
        }
      },
      "source": [
        "main_categories = get_main_categories(save_db=True)\n",
        "main_categories"
      ],
      "execution_count": 0,
      "outputs": [
        {
          "output_type": "execute_result",
          "data": {
            "text/plain": [
              "[ID: 4, Name: Điện Thoại - Máy Tính Bảng, URL: https://tiki.vn/dien-thoai-may-tinh-bang/c1789?src=c.1789.hamburger_menu_fly_out_banner, Parent: None,\n",
              " ID: 5, Name: Điện Tử - Điện Lạnh, URL: https://tiki.vn/tivi-thiet-bi-nghe-nhin/c4221?src=c.4221.hamburger_menu_fly_out_banner, Parent: None,\n",
              " ID: 6, Name: Phụ Kiện - Thiết Bị Số, URL: https://tiki.vn/thiet-bi-kts-phu-kien-so/c1815?src=c.1815.hamburger_menu_fly_out_banner, Parent: None,\n",
              " ID: 7, Name: Laptop - Thiết bị IT, URL: https://tiki.vn/laptop-may-vi-tinh/c1846?src=c.1846.hamburger_menu_fly_out_banner, Parent: None,\n",
              " ID: 8, Name: Máy Ảnh - Quay Phim, URL: https://tiki.vn/may-anh/c1801?src=c.1801.hamburger_menu_fly_out_banner, Parent: None,\n",
              " ID: 9, Name: Điện Gia Dụng, URL: https://tiki.vn/dien-gia-dung/c1882?src=c.1882.hamburger_menu_fly_out_banner, Parent: None,\n",
              " ID: 10, Name: Nhà Cửa Đời Sống, URL: https://tiki.vn/nha-cua-doi-song/c1883?src=c.1883.hamburger_menu_fly_out_banner, Parent: None,\n",
              " ID: 11, Name: Hàng Tiêu Dùng - Thực Phẩm, URL: https://tiki.vn/bach-hoa-online/c4384?src=c.4384.hamburger_menu_fly_out_banner, Parent: None,\n",
              " ID: 12, Name: Đồ chơi, Mẹ & Bé, URL: https://tiki.vn/me-va-be/c2549?src=c.2549.hamburger_menu_fly_out_banner, Parent: None,\n",
              " ID: 13, Name: Làm Đẹp - Sức Khỏe, URL: https://tiki.vn/lam-dep-suc-khoe/c1520?src=c.1520.hamburger_menu_fly_out_banner, Parent: None,\n",
              " ID: 14, Name: Thời trang - Phụ kiện, URL: https://tiki.vn/thoi-trang/c914?src=c.914.hamburger_menu_fly_out_banner, Parent: None,\n",
              " ID: 15, Name: Thể Thao - Dã Ngoại, URL: https://tiki.vn/the-thao/c1975?src=c.1975.hamburger_menu_fly_out_banner, Parent: None,\n",
              " ID: 16, Name: Xe Máy, Ô tô, Xe Đạp, URL: https://tiki.vn/o-to-xe-may-xe-dap/c8594?src=c.8594.hamburger_menu_fly_out_banner, Parent: None,\n",
              " ID: 17, Name: Hàng quốc tế, URL: https://tiki.vn/hang-quoc-te/c17166?src=c.17166.hamburger_menu_fly_out_banner, Parent: None,\n",
              " ID: 18, Name: Sách, VPP & Quà Tặng, URL: https://tiki.vn/nha-sach-tiki/c8322?src=c.8322.hamburger_menu_fly_out_banner, Parent: None,\n",
              " ID: 19, Name: Voucher - Dịch Vụ - Thẻ Cào, URL: https://tiki.vn/voucher-dich-vu/c11312?src=c.11312.hamburger_menu_fly_out_banner, Parent: None]"
            ]
          },
          "metadata": {
            "tags": []
          },
          "execution_count": 30
        }
      ]
    },
    {
      "cell_type": "code",
      "metadata": {
        "id": "5uPMaMeDotKC",
        "colab_type": "code",
        "colab": {}
      },
      "source": [
        "# get_sub_categories() given a parent category\n",
        "import re\n",
        "\n",
        "def get_sub_categories(parent_category, save_db=False):\n",
        "    url = parent_category.url\n",
        "    result = []\n",
        "\n",
        "    try:\n",
        "        soup = get_url(url)\n",
        "        div_containers = soup.find_all('div', {'class':'list-group-item is-child'})\n",
        "        for div in div_containers:\n",
        "            name = div.a.text\n",
        "            name = re.sub('\\s{2,}', ' ', name)\n",
        "            url = TIKI_URL + div.a['href']\n",
        "            cat = Category(name, url, parent_category.cat_id)\n",
        "            if save_db:\n",
        "                cat.save_into_db()\n",
        "            result.append(cat)\n",
        "    except Exception as err:\n",
        "        print('ERROR BY GET SUB CATEGORIES:', err)\n",
        "    return result"
      ],
      "execution_count": 0,
      "outputs": []
    },
    {
      "cell_type": "code",
      "metadata": {
        "id": "tWSLxciLyeI4",
        "colab_type": "code",
        "outputId": "7328f8b2-65a1-49e0-c251-c5a18fdf03e3",
        "colab": {
          "base_uri": "https://localhost:8080/",
          "height": 187
        }
      },
      "source": [
        "get_sub_categories(main_categories[0], save_db=True)"
      ],
      "execution_count": 0,
      "outputs": [
        {
          "output_type": "execute_result",
          "data": {
            "text/plain": [
              "[ID: 25, Name:  Máy tính bảng (57)\n",
              " , URL: https://tiki.vn/may-tinh-bang/c1794?src=c.1789.hamburger_menu_fly_out_banner, Parent: 4,\n",
              " ID: 26, Name:  Máy đọc sách (30)\n",
              " , URL: https://tiki.vn/may-doc-sach/c28856?src=c.1789.hamburger_menu_fly_out_banner, Parent: 4,\n",
              " ID: 27, Name:  Điện thoại Smartphone (191)\n",
              " , URL: https://tiki.vn/dien-thoai-smartphone/c1795?src=c.1789.hamburger_menu_fly_out_banner, Parent: 4,\n",
              " ID: 28, Name:  Điện thoại bàn (108)\n",
              " , URL: https://tiki.vn/dien-thoai-ban/c8061?src=c.1789.hamburger_menu_fly_out_banner, Parent: 4,\n",
              " ID: 29, Name:  Điện thoại phổ thông (91)\n",
              " , URL: https://tiki.vn/dien-thoai-pho-thong/c1796?src=c.1789.hamburger_menu_fly_out_banner, Parent: 4]"
            ]
          },
          "metadata": {
            "tags": []
          },
          "execution_count": 40
        }
      ]
    },
    {
      "cell_type": "code",
      "metadata": {
        "id": "27WNSokppCWs",
        "colab_type": "code",
        "colab": {}
      },
      "source": [
        "# get_all_categories() given a list of main categories\n",
        "def get_all_categories(categories):\n",
        "    if len(categories) == 0:\n",
        "        return\n",
        "    for cat in categories:\n",
        "        sub_categories = get_sub_categories(cat, save_db=False)\n",
        "        print(sub_categories)\n",
        "        get_all_categories(sub_categories)"
      ],
      "execution_count": 0,
      "outputs": []
    },
    {
      "cell_type": "code",
      "metadata": {
        "id": "GhkXwRNw1CKx",
        "colab_type": "code",
        "outputId": "6fbc2841-f4ab-49cd-cac3-bf35d2c3396d",
        "colab": {
          "base_uri": "https://localhost:8080/",
          "height": 1000
        }
      },
      "source": [
        "get_all_categories(main_categories)"
      ],
      "execution_count": 0,
      "outputs": [
        {
          "output_type": "stream",
          "text": [
            "[ID: None, Name:  Máy tính bảng (57)\n",
            ", URL: https://tiki.vn/may-tinh-bang/c1794?src=c.1789.hamburger_menu_fly_out_banner, Parent: 4, ID: None, Name:  Máy đọc sách (30)\n",
            ", URL: https://tiki.vn/may-doc-sach/c28856?src=c.1789.hamburger_menu_fly_out_banner, Parent: 4, ID: None, Name:  Điện thoại Smartphone (191)\n",
            ", URL: https://tiki.vn/dien-thoai-smartphone/c1795?src=c.1789.hamburger_menu_fly_out_banner, Parent: 4, ID: None, Name:  Điện thoại bàn (108)\n",
            ", URL: https://tiki.vn/dien-thoai-ban/c8061?src=c.1789.hamburger_menu_fly_out_banner, Parent: 4, ID: None, Name:  Điện thoại phổ thông (91)\n",
            ", URL: https://tiki.vn/dien-thoai-pho-thong/c1796?src=c.1789.hamburger_menu_fly_out_banner, Parent: 4]\n",
            "[]\n",
            "[]\n",
            "[]\n",
            "[]\n",
            "[]\n",
            "[ID: None, Name:  Máy giặt (734)\n",
            ", URL: https://tiki.vn/may-giat/c3862?src=c.4221.hamburger_menu_fly_out_banner, Parent: 5, ID: None, Name:  Máy lạnh - Máy điều hòa (696)\n",
            ", URL: https://tiki.vn/may-lanh-may-dieu-hoa/c3865?src=c.4221.hamburger_menu_fly_out_banner, Parent: 5, ID: None, Name:  Máy nước nóng (312)\n",
            ", URL: https://tiki.vn/may-nuoc-nong/c3866?src=c.4221.hamburger_menu_fly_out_banner, Parent: 5, ID: None, Name:  Máy rửa chén (74)\n",
            ", URL: https://tiki.vn/may-rua-chen/c3864?src=c.4221.hamburger_menu_fly_out_banner, Parent: 5, ID: None, Name:  Máy sấy quần áo (51)\n",
            ", URL: https://tiki.vn/may-say-quan-ao/c3863?src=c.4221.hamburger_menu_fly_out_banner, Parent: 5, ID: None, Name:  Phụ kiện điện lạnh (230)\n",
            ", URL: https://tiki.vn/phu-kien-dien-lanh/c8074?src=c.4221.hamburger_menu_fly_out_banner, Parent: 5, ID: None, Name:  Tivi (610)\n",
            ", URL: https://tiki.vn/tivi/c5015?src=c.4221.hamburger_menu_fly_out_banner, Parent: 5, ID: None, Name:  Tủ lạnh (983)\n",
            ", URL: https://tiki.vn/tu-lanh/c2328?src=c.4221.hamburger_menu_fly_out_banner, Parent: 5, ID: None, Name:  Tủ đông - Tủ mát (560)\n",
            ", URL: https://tiki.vn/tu-dong-tu-mat/c3868?src=c.4221.hamburger_menu_fly_out_banner, Parent: 5, ID: None, Name:  Tủ ướp rượu (38)\n",
            ", URL: https://tiki.vn/tu-uop-ruou/c3869?src=c.4221.hamburger_menu_fly_out_banner, Parent: 5, ID: None, Name:  Âm thanh & Phụ kiện Tivi (2608)\n",
            ", URL: https://tiki.vn/am-thanh-phu-kien-tivi/c26568?src=c.4221.hamburger_menu_fly_out_banner, Parent: 5]\n",
            "[]\n",
            "[]\n",
            "[]\n",
            "[]\n",
            "[]\n",
            "[ID: None, Name:  Phụ kiện, linh kiện máy giặt (13)\n",
            ", URL: https://tiki.vn/phu-kien-linh-kien-may-giat/c28890?src=c.4221.hamburger_menu_fly_out_banner, Parent: None, ID: None, Name:  Phụ kiện, linh kiện máy lạnh (148)\n",
            ", URL: https://tiki.vn/phu-kien-linh-kien-may-lanh/c28886?src=c.4221.hamburger_menu_fly_out_banner, Parent: None, ID: None, Name:  Phụ kiện, linh kiện tủ lạnh (8)\n",
            ", URL: https://tiki.vn/phu-kien-linh-kien-tu-lanh/c28884?src=c.4221.hamburger_menu_fly_out_banner, Parent: None, ID: None, Name:  Phụ kiện, linh kiện điện lạnh khác (61)\n",
            ", URL: https://tiki.vn/phu-kien-linh-kien-dien-lanh-khac/c28892?src=c.4221.hamburger_menu_fly_out_banner, Parent: None]\n",
            "[]\n",
            "[]\n",
            "[]\n",
            "[]\n",
            "[ID: None, Name:  Internet Tivi (7)\n",
            ", URL: https://tiki.vn/internet-tivi/c11524?src=c.4221.hamburger_menu_fly_out_banner, Parent: None, ID: None, Name:  Smart Tivi - Android Tivi (419)\n",
            ", URL: https://tiki.vn/smart-tivi-android-tivi/c4239?src=c.4221.hamburger_menu_fly_out_banner, Parent: None, ID: None, Name:  Tivi 4K (264)\n",
            ", URL: https://tiki.vn/tivi-4k/c6280?src=c.4221.hamburger_menu_fly_out_banner, Parent: None, ID: None, Name:  Tivi OLED (27)\n",
            ", URL: https://tiki.vn/tivi-oled/c7603?src=c.4221.hamburger_menu_fly_out_banner, Parent: None, ID: None, Name:  Tivi QLED (54)\n",
            ", URL: https://tiki.vn/tivi-qled/c8950?src=c.4221.hamburger_menu_fly_out_banner, Parent: None, ID: None, Name:  Tivi cao cấp (63)\n",
            ", URL: https://tiki.vn/tivi-cao-cap/c12900?src=c.4221.hamburger_menu_fly_out_banner, Parent: None, ID: None, Name:  Tivi thường (LED) (47)\n",
            ", URL: https://tiki.vn/tivi-thuong-led/c4236?src=c.4221.hamburger_menu_fly_out_banner, Parent: None]\n",
            "[]\n",
            "[]\n",
            "[]\n",
            "[]\n",
            "[]\n",
            "[]\n",
            "[]\n",
            "[]\n",
            "[]\n",
            "[]\n",
            "[ID: None, Name:  Android TV Box, Smart Box (218)\n",
            ", URL: https://tiki.vn/android-tv-box-smart-box/c7074?src=c.4221.hamburger_menu_fly_out_banner, Parent: None, ID: None, Name:  Bộ giải mã âm thanh DAC (6)\n",
            ", URL: https://tiki.vn/bo-giai-ma-am-thanh-dac/c28872?src=c.4221.hamburger_menu_fly_out_banner, Parent: None, ID: None, Name:  Dàn âm thanh (148)\n",
            ", URL: https://tiki.vn/dan-am-thanh/c4966?src=c.4221.hamburger_menu_fly_out_banner, Parent: None, ID: None, Name:  Loa (668)\n",
            ", URL: https://tiki.vn/loa/c7075?src=c.4221.hamburger_menu_fly_out_banner, Parent: None, ID: None, Name:  Micro Karaoke - sân khấu (438)\n",
            ", URL: https://tiki.vn/micro-karaoke-san-khau/c26652?src=c.4221.hamburger_menu_fly_out_banner, Parent: None, ID: None, Name:  Máy radio cassette (38)\n",
            ", URL: https://tiki.vn/may-radio-cassette/c7078?src=c.4221.hamburger_menu_fly_out_banner, Parent: None, ID: None, Name:  Phụ kiện Tivi (435)\n",
            ", URL: https://tiki.vn/phu-kien-tivi/c7082?src=c.4221.hamburger_menu_fly_out_banner, Parent: None, ID: None, Name:  Phụ kiện âm thanh (185)\n",
            ", URL: https://tiki.vn/phu-kien-am-thanh/c8068?src=c.4221.hamburger_menu_fly_out_banner, Parent: None, ID: None, Name:  Receivers, Amplifier, Mixer (393)\n",
            ", URL: https://tiki.vn/receivers-amplifier-mixer/c7079?src=c.4221.hamburger_menu_fly_out_banner, Parent: None, ID: None, Name:  Thiết bị phát Streaming (5)\n",
            ", URL: https://tiki.vn/thiet-bi-phat-streaming/c28858?src=c.4221.hamburger_menu_fly_out_banner, Parent: None, ID: None, Name:  Đầu CD, DVD, karaoke, Blu-ray (76)\n",
            ", URL: https://tiki.vn/dau-cd-dvd-karaoke-blu-ray/c7077?src=c.4221.hamburger_menu_fly_out_banner, Parent: None]\n",
            "[]\n",
            "[]\n",
            "[ID: None, Name:  Dàn Karaoke (106)\n",
            ", URL: https://tiki.vn/dan-karaoke/c28870?src=c.4221.hamburger_menu_fly_out_banner, Parent: None, ID: None, Name:  Dàn âm thanh giải trí tại gia (21)\n",
            ", URL: https://tiki.vn/dan-am-thanh-giai-tri-tai-gia/c28868?src=c.4221.hamburger_menu_fly_out_banner, Parent: None]\n",
            "[]\n",
            "[]\n",
            "[ID: None, Name:  Loa Bookshelf (57)\n",
            ", URL: https://tiki.vn/loa-bookshelf/c11518?src=c.4221.hamburger_menu_fly_out_banner, Parent: None, ID: None, Name:  Loa Sub, siêu trầm (53)\n",
            ", URL: https://tiki.vn/loa-sub-sieu-tram/c28860?src=c.4221.hamburger_menu_fly_out_banner, Parent: None, ID: None, Name:  Loa karaoke (376)\n",
            ", URL: https://tiki.vn/loa-karaoke/c11516?src=c.4221.hamburger_menu_fly_out_banner, Parent: None, ID: None, Name:  Loa sân khấu, ngoài trời (24)\n",
            ", URL: https://tiki.vn/loa-san-khau-ngoai-troi/c28862?src=c.4221.hamburger_menu_fly_out_banner, Parent: None, ID: None, Name:  Loa thanh, Soundbar (85)\n",
            ", URL: https://tiki.vn/loa-thanh-soundbar/c8067?src=c.4221.hamburger_menu_fly_out_banner, Parent: None, ID: None, Name:  Loa thùng, loa vệ tinh (63)\n",
            ", URL: https://tiki.vn/loa-thung-loa-ve-tinh/c8064?src=c.4221.hamburger_menu_fly_out_banner, Parent: None, ID: None, Name:  Loa âm trần - âm tường (11)\n",
            ", URL: https://tiki.vn/loa-am-tran-am-tuong/c28866?src=c.4221.hamburger_menu_fly_out_banner, Parent: None]\n",
            "[]\n",
            "[]\n",
            "[]\n",
            "[]\n",
            "[]\n",
            "[]\n",
            "[]\n",
            "[]\n",
            "[]\n",
            "[ID: None, Name:  Anten Tivi (13)\n",
            ", URL: https://tiki.vn/anten-tivi/c26642?src=c.4221.hamburger_menu_fly_out_banner, Parent: None, ID: None, Name:  Cáp Tivi (45)\n",
            ", URL: https://tiki.vn/cap-tivi/c26638?src=c.4221.hamburger_menu_fly_out_banner, Parent: None, ID: None, Name:  Giá treo Tivi (165)\n",
            ", URL: https://tiki.vn/gia-treo-tivi/c7084?src=c.4221.hamburger_menu_fly_out_banner, Parent: None, ID: None, Name:  Kính 3D (1)\n",
            ", URL: https://tiki.vn/kinh-3d/c28882?src=c.4221.hamburger_menu_fly_out_banner, Parent: None, ID: None, Name:  Điều khiển từ xa Tivi (188)\n",
            ", URL: https://tiki.vn/dieu-khien-tu-xa-tivi/c7083?src=c.4221.hamburger_menu_fly_out_banner, Parent: None, ID: None, Name:  Đầu thu kỹ thuật số (25)\n",
            ", URL: https://tiki.vn/dau-thu-ky-thuat-so/c26640?src=c.4221.hamburger_menu_fly_out_banner, Parent: None]\n",
            "[]\n",
            "[]\n",
            "[]\n",
            "[]\n",
            "[]\n",
            "[]\n",
            "[ID: None, Name:  Giá treo loa (48)\n",
            ", URL: https://tiki.vn/gia-treo-loa/c8070?src=c.4221.hamburger_menu_fly_out_banner, Parent: None, ID: None, Name:  Phụ kiện âm thanh khác (97)\n",
            ", URL: https://tiki.vn/phu-kien-am-thanh-khac/c8073?src=c.4221.hamburger_menu_fly_out_banner, Parent: None]\n",
            "[]\n",
            "[]\n",
            "[]\n",
            "[]\n",
            "[ID: None, Name:  Đầu ghi phát CD (4)\n",
            ", URL: https://tiki.vn/dau-ghi-phat-cd/c28874?src=c.4221.hamburger_menu_fly_out_banner, Parent: None, ID: None, Name:  Đầu ghi phát DVD, Blu-ray (12)\n",
            ", URL: https://tiki.vn/dau-ghi-phat-dvd-blu-ray/c28876?src=c.4221.hamburger_menu_fly_out_banner, Parent: None, ID: None, Name:  Đầu phát karaoke (24)\n",
            ", URL: https://tiki.vn/dau-phat-karaoke/c28878?src=c.4221.hamburger_menu_fly_out_banner, Parent: None]\n",
            "[]\n",
            "[]\n",
            "[]\n",
            "[ID: None, Name:  Phụ Kiện Điện Thoại và Máy Tính Bảng (1079000)\n",
            ", URL: https://tiki.vn/phu-kien-dien-thoai-va-may-tinh-bang/c8214?src=c.1815.hamburger_menu_fly_out_banner, Parent: 6, ID: None, Name:  Phụ kiện máy tính và Laptop (14832)\n",
            ", URL: https://tiki.vn/phu-kien-may-tinh-va-laptop/c28670?src=c.1815.hamburger_menu_fly_out_banner, Parent: 6, ID: None, Name:  Thiết Bị Chơi Game và Phụ Kiện (1209)\n",
            ", URL: https://tiki.vn/thiet-bi-choi-game-va-phu-kien/c2667?src=c.1815.hamburger_menu_fly_out_banner, Parent: 6, ID: None, Name:  Thiết Bị Thông Minh và Linh Kiện Điện Tử (1615)\n",
            ", URL: https://tiki.vn/thiet-bi-thong-minh-va-linh-kien-dien-tu/c28432?src=c.1815.hamburger_menu_fly_out_banner, Parent: 6, ID: None, Name:  Thiết Bị Âm Thanh và Phụ Kiện (8792)\n",
            ", URL: https://tiki.vn/thiet-bi-am-thanh-va-phu-kien/c8215?src=c.1815.hamburger_menu_fly_out_banner, Parent: 6, ID: None, Name:  Thiết Bị Đeo Thông Minh và Phụ Kiện (1755)\n",
            ", URL: https://tiki.vn/thiet-bi-deo-thong-minh-va-phu-kien/c8039?src=c.1815.hamburger_menu_fly_out_banner, Parent: 6]\n",
            "[ID: None, Name:  Adapter - Củ Sạc (1990)\n",
            ", URL: https://tiki.vn/adapter-cu-sac/c3803?src=c.1815.hamburger_menu_fly_out_banner, Parent: None, ID: None, Name:  Bao Da - Ốp Lưng (1038217)\n",
            ", URL: https://tiki.vn/bao-da-op-lung/c1822?src=c.1815.hamburger_menu_fly_out_banner, Parent: None, ID: None, Name:  Bàn Phím Rời - Bút Cảm Ứng (182)\n",
            ", URL: https://tiki.vn/ban-phim-roi-but-cam-ung/c20238?src=c.1815.hamburger_menu_fly_out_banner, Parent: None, ID: None, Name:  Dây Sạc - Dây Cáp (4149)\n",
            ", URL: https://tiki.vn/day-sac-day-cap/c1823?src=c.1815.hamburger_menu_fly_out_banner, Parent: None, ID: None, Name:  Dây Đeo và Phụ Kiện Trang Trí (95)\n",
            ", URL: https://tiki.vn/day-deo-va-phu-kien-trang-tri/c20222?src=c.1815.hamburger_menu_fly_out_banner, Parent: None, ID: None, Name:  Dụng Cụ Sửa Chữa và Vệ Sinh (49)\n",
            ", URL: https://tiki.vn/dung-cu-sua-chua-va-ve-sinh/c20242?src=c.1815.hamburger_menu_fly_out_banner, Parent: None, ID: None, Name:  Giá Đỡ - Chân Đế - Móc Dán (1446)\n",
            ", URL: https://tiki.vn/gia-do-chan-de-moc-dan/c20220?src=c.1815.hamburger_menu_fly_out_banner, Parent: None, ID: None, Name:  Hộp Đựng - Túi Đựng Phụ Kiện (719)\n",
            ", URL: https://tiki.vn/hop-dung-tui-dung-phu-kien/c20244?src=c.1815.hamburger_menu_fly_out_banner, Parent: None, ID: None, Name:  Linh Kiện Thay Thế (850)\n",
            ", URL: https://tiki.vn/linh-kien-thay-the/c20234?src=c.1815.hamburger_menu_fly_out_banner, Parent: None, ID: None, Name:  Miếng Dán Màn Hình (7656)\n",
            ", URL: https://tiki.vn/mieng-dan-man-hinh/c1824?src=c.1815.hamburger_menu_fly_out_banner, Parent: None, ID: None, Name:  Phụ Kiện Chơi Game (98)\n",
            ", URL: https://tiki.vn/phu-kien-choi-game/c28624?src=c.1815.hamburger_menu_fly_out_banner, Parent: None, ID: None, Name:  Phụ Kiện Chụp Hình (257)\n",
            ", URL: https://tiki.vn/phu-kien-chup-hinh/c28620?src=c.1815.hamburger_menu_fly_out_banner, Parent: None, ID: None, Name:  Phụ Kiện Di Động Khác (398)\n",
            ", URL: https://tiki.vn/phu-kien-di-dong-khac/c1819?src=c.1815.hamburger_menu_fly_out_banner, Parent: None, ID: None, Name:  Pin Sạc Dự Phòng (1271)\n",
            ", URL: https://tiki.vn/pin-sac-du-phong/c1821?src=c.1815.hamburger_menu_fly_out_banner, Parent: None, ID: None, Name:  SIM Điện Thoại (20342)\n",
            ", URL: https://tiki.vn/sim-dien-thoai/c10691?src=c.1815.hamburger_menu_fly_out_banner, Parent: None, ID: None, Name:  Thẻ Nhớ và Bộ Nhớ Mở Rộng (379)\n",
            ", URL: https://tiki.vn/the-nho-va-bo-nho-mo-rong/c28448?src=c.1815.hamburger_menu_fly_out_banner, Parent: None, ID: None, Name:  Túi Bảo Vệ - Túi Chống Nước (99)\n",
            ", URL: https://tiki.vn/tui-bao-ve-tui-chong-nuoc/c20236?src=c.1815.hamburger_menu_fly_out_banner, Parent: None, ID: None, Name:  Vòng Đeo - Đai Đeo (8)\n",
            ", URL: https://tiki.vn/vong-deo-dai-deo/c20240?src=c.1815.hamburger_menu_fly_out_banner, Parent: None]\n",
            "[ID: None, Name:  Adapter Sạc - Củ Sạc Thường (1115)\n",
            ", URL: https://tiki.vn/adapter-sac-cu-sac-thuong/c12908?src=c.1815.hamburger_menu_fly_out_banner, Parent: None, ID: None, Name:  Adapter Sạc - Củ Sạc Xe Hơi (274)\n",
            ", URL: https://tiki.vn/adapter-sac-cu-sac-xe-hoi/c12918?src=c.1815.hamburger_menu_fly_out_banner, Parent: None, ID: None, Name:  Bộ Adapter Sạc Kèm Cáp Sạc (294)\n",
            ", URL: https://tiki.vn/bo-adapter-sac-kem-cap-sac/c28460?src=c.1815.hamburger_menu_fly_out_banner, Parent: None, ID: None, Name:  Đế Sạc Không Dây (294)\n",
            ", URL: https://tiki.vn/de-sac-khong-day/c12928?src=c.1815.hamburger_menu_fly_out_banner, Parent: None]\n",
            "[]\n",
            "[]\n",
            "[]\n",
            "[]\n",
            "[ID: None, Name:  Bao Da - Ốp Lưng Máy Tính Bảng Khác (1182)\n",
            ", URL: https://tiki.vn/bao-da-op-lung-may-tinh-bang-khac/c28598?src=c.1815.hamburger_menu_fly_out_banner, Parent: None, ID: None, Name:  Bao Da - Ốp Lưng iPad (907)\n",
            ", URL: https://tiki.vn/bao-da-op-lung-ipad/c28596?src=c.1815.hamburger_menu_fly_out_banner, Parent: None, ID: None, Name:  Bao Da - Ốp Lưng Điện Thoại Asus (18135)\n",
            ", URL: https://tiki.vn/bao-da-op-lung-dien-thoai-asus/c28582?src=c.1815.hamburger_menu_fly_out_banner, Parent: None, ID: None, Name:  Bao Da - Ốp Lưng Điện Thoại Honor (2068)\n",
            ", URL: https://tiki.vn/bao-da-op-lung-dien-thoai-honor/c28590?src=c.1815.hamburger_menu_fly_out_banner, Parent: None, ID: None, Name:  Bao Da - Ốp Lưng Điện Thoại Huawei (90545)\n",
            ", URL: https://tiki.vn/bao-da-op-lung-dien-thoai-huawei/c28584?src=c.1815.hamburger_menu_fly_out_banner, Parent: None, ID: None, Name:  Bao Da - Ốp Lưng Điện Thoại Khác (97355)\n",
            ", URL: https://tiki.vn/bao-da-op-lung-dien-thoai-khac/c28594?src=c.1815.hamburger_menu_fly_out_banner, Parent: None, ID: None, Name:  Bao Da - Ốp Lưng Điện Thoại Nokia (37669)\n",
            ", URL: https://tiki.vn/bao-da-op-lung-dien-thoai-nokia/c28586?src=c.1815.hamburger_menu_fly_out_banner, Parent: None, ID: None, Name:  Bao Da - Ốp Lưng Điện Thoại Oppo (109210)\n",
            ", URL: https://tiki.vn/bao-da-op-lung-dien-thoai-oppo/c28580?src=c.1815.hamburger_menu_fly_out_banner, Parent: None, ID: None, Name:  Bao Da - Ốp Lưng Điện Thoại Samsung (339846)\n",
            ", URL: https://tiki.vn/bao-da-op-lung-dien-thoai-samsung/c28576?src=c.1815.hamburger_menu_fly_out_banner, Parent: None, ID: None, Name:  Bao Da - Ốp Lưng Điện Thoại Sony (33135)\n",
            ", URL: https://tiki.vn/bao-da-op-lung-dien-thoai-sony/c28592?src=c.1815.hamburger_menu_fly_out_banner, Parent: None, ID: None, Name:  Bao Da - Ốp Lưng Điện Thoại Vivo (59821)\n",
            ", URL: https://tiki.vn/bao-da-op-lung-dien-thoai-vivo/c28588?src=c.1815.hamburger_menu_fly_out_banner, Parent: None, ID: None, Name:  Bao Da - Ốp Lưng Điện Thoại Xiaomi (99205)\n",
            ", URL: https://tiki.vn/bao-da-op-lung-dien-thoai-xiaomi/c28578?src=c.1815.hamburger_menu_fly_out_banner, Parent: None, ID: None, Name:  Bao Da - Ốp Lưng Điện Thoại iPhone (95003)\n",
            ", URL: https://tiki.vn/bao-da-op-lung-dien-thoai-iphone/c28574?src=c.1815.hamburger_menu_fly_out_banner, Parent: None]\n",
            "[]\n",
            "[]\n",
            "[]\n",
            "[]\n",
            "[]\n",
            "[]\n",
            "[]\n",
            "[]\n",
            "[]\n",
            "[]\n",
            "[]\n",
            "[]\n",
            "[]\n",
            "[ID: None, Name:  Bàn Phím Rời - Ốp Tích Hợp Bàn Phím (129)\n",
            ", URL: https://tiki.vn/ban-phim-roi-op-tich-hop-ban-phim/c28618?src=c.1815.hamburger_menu_fly_out_banner, Parent: None, ID: None, Name:  Bút Cảm Ứng (35)\n",
            ", URL: https://tiki.vn/but-cam-ung/c28616?src=c.1815.hamburger_menu_fly_out_banner, Parent: None]\n",
            "[]\n",
            "[]\n",
            "[ID: None, Name:  Các Loại Cáp Khác (593)\n",
            ", URL: https://tiki.vn/cac-loai-cap-khac/c3805?src=c.1815.hamburger_menu_fly_out_banner, Parent: None, ID: None, Name:  Dây Cáp Sạc Micro USB (756)\n",
            ", URL: https://tiki.vn/day-cap-sac-micro-usb/c5007?src=c.1815.hamburger_menu_fly_out_banner, Parent: None, ID: None, Name:  Dây Cáp Sạc USB Type-C (722)\n",
            ", URL: https://tiki.vn/day-cap-sac-usb-type-c/c12294?src=c.1815.hamburger_menu_fly_out_banner, Parent: None, ID: None, Name:  Dây Cáp Sạc iPhone, iPad (1489)\n",
            ", URL: https://tiki.vn/day-cap-sac-iphone-ipad/c5006?src=c.1815.hamburger_menu_fly_out_banner, Parent: None, ID: None, Name:  Dây Cáp Sạc Đa Năng (520)\n",
            ", URL: https://tiki.vn/day-cap-sac-da-nang/c28458?src=c.1815.hamburger_menu_fly_out_banner, Parent: None]\n",
            "[]\n",
            "[]\n",
            "[]\n",
            "[]\n",
            "[]\n",
            "[]\n",
            "[ID: None, Name:  Dụng Cụ Sửa Chữa (44)\n",
            ", URL: https://tiki.vn/dung-cu-sua-chua/c28472?src=c.1815.hamburger_menu_fly_out_banner, Parent: None, ID: None, Name:  Dụng Cụ Vệ Sinh (4)\n",
            ", URL: https://tiki.vn/dung-cu-ve-sinh/c28470?src=c.1815.hamburger_menu_fly_out_banner, Parent: None]\n",
            "[]\n",
            "[]\n",
            "[ID: None, Name:  Giá Đỡ - Chân Đế Gắn Ô Tô, Xe Máy (331)\n",
            ", URL: https://tiki.vn/gia-do-chan-de-gan-o-to-xe-may/c28482?src=c.1815.hamburger_menu_fly_out_banner, Parent: None, ID: None, Name:  Giá Đỡ - Chân Đế Thường (656)\n",
            ", URL: https://tiki.vn/gia-do-chan-de-thuong/c28480?src=c.1815.hamburger_menu_fly_out_banner, Parent: None, ID: None, Name:  Móc Dán Đỡ Điện Thoại (436)\n",
            ", URL: https://tiki.vn/moc-dan-do-dien-thoai/c28478?src=c.1815.hamburger_menu_fly_out_banner, Parent: None]\n",
            "[]\n",
            "[]\n",
            "[]\n",
            "[]\n",
            "[ID: None, Name:  Linh Kiện Thay Thế Khác (37)\n",
            ", URL: https://tiki.vn/linh-kien-thay-the-khac/c28468?src=c.1815.hamburger_menu_fly_out_banner, Parent: None, ID: None, Name:  Màn Hình Thay Thế (10)\n",
            ", URL: https://tiki.vn/man-hinh-thay-the/c28462?src=c.1815.hamburger_menu_fly_out_banner, Parent: None, ID: None, Name:  Pin Thay Thế (710)\n",
            ", URL: https://tiki.vn/pin-thay-the/c28464?src=c.1815.hamburger_menu_fly_out_banner, Parent: None, ID: None, Name:  Vỏ - Case Thay Thế (92)\n",
            ", URL: https://tiki.vn/vo-case-thay-the/c28466?src=c.1815.hamburger_menu_fly_out_banner, Parent: None]\n",
            "[]\n",
            "[]\n",
            "[]\n",
            "[]\n",
            "[ID: None, Name:  Miếng Dán Màn Hình Điện Thoại (5386)\n",
            ", URL: https://tiki.vn/mieng-dan-man-hinh-dien-thoai/c28484?src=c.1815.hamburger_menu_fly_out_banner, Parent: None, ID: None, Name:  Miếng Dán Thiết Bị Di Động Khác (2180)\n",
            ", URL: https://tiki.vn/mieng-dan-thiet-bi-di-dong-khac/c28486?src=c.1815.hamburger_menu_fly_out_banner, Parent: None]\n",
            "[]\n",
            "[]\n",
            "[ID: None, Name:  Nút Bấm Chơi Game Điện Thoại (32)\n",
            ", URL: https://tiki.vn/nut-bam-choi-game-dien-thoai/c28626?src=c.1815.hamburger_menu_fly_out_banner, Parent: None, ID: None, Name:  Phụ Kiện Chơi Game Điện Thoại Khác (6)\n",
            ", URL: https://tiki.vn/phu-kien-choi-game-dien-thoai-khac/c28630?src=c.1815.hamburger_menu_fly_out_banner, Parent: None, ID: None, Name:  Tay Cầm Chơi Game Điện Thoại (60)\n",
            ", URL: https://tiki.vn/tay-cam-choi-game-dien-thoai/c28628?src=c.1815.hamburger_menu_fly_out_banner, Parent: None]\n",
            "[]\n",
            "[]\n",
            "[]\n",
            "[ID: None, Name:  Gậy Tự Sướng - Selfie (195)\n",
            ", URL: https://tiki.vn/gay-tu-suong-selfie/c2659?src=c.1815.hamburger_menu_fly_out_banner, Parent: None, ID: None, Name:  Lens Cho Điện Thoại (32)\n",
            ", URL: https://tiki.vn/lens-cho-dien-thoai/c20212?src=c.1815.hamburger_menu_fly_out_banner, Parent: None, ID: None, Name:  Đèn Flash Selfie - Flash Mini (28)\n",
            ", URL: https://tiki.vn/den-flash-selfie-flash-mini/c28622?src=c.1815.hamburger_menu_fly_out_banner, Parent: None]\n",
            "[]\n",
            "[]\n",
            "[]\n",
            "[]\n",
            "[ID: None, Name:  Pin Sạc Dự Phòng Di Động (1188)\n",
            ", URL: https://tiki.vn/pin-sac-du-phong-di-dong/c28454?src=c.1815.hamburger_menu_fly_out_banner, Parent: None, ID: None, Name:  Pin Sạc Dự Phòng Ốp Lưng (10)\n",
            ", URL: https://tiki.vn/pin-sac-du-phong-op-lung/c28456?src=c.1815.hamburger_menu_fly_out_banner, Parent: None]\n",
            "[]\n",
            "[]\n",
            "[ID: None, Name:  SIM Data - SIM 3G / 4G (453)\n",
            ", URL: https://tiki.vn/sim-data-sim-3g-4g/c28452?src=c.1815.hamburger_menu_fly_out_banner, Parent: None, ID: None, Name:  SIM số (19858)\n",
            ", URL: https://tiki.vn/sim-so/c28450?src=c.1815.hamburger_menu_fly_out_banner, Parent: None]\n",
            "[]\n",
            "[]\n",
            "[ID: None, Name:  Thẻ Nhớ Điện Thoại (307)\n",
            ", URL: https://tiki.vn/the-nho-dien-thoai/c1820?src=c.1815.hamburger_menu_fly_out_banner, Parent: None, ID: None, Name:  USB OTG (72)\n",
            ", URL: https://tiki.vn/usb-otg/c2173?src=c.1815.hamburger_menu_fly_out_banner, Parent: None]\n",
            "[]\n",
            "[]\n",
            "[]\n",
            "[]\n",
            "[ID: None, Name:  Bàn Di Chuột - Miếng Lót Chuột (2035)\n",
            ", URL: https://tiki.vn/ban-di-chuot-mieng-lot-chuot/c1831?src=c.1815.hamburger_menu_fly_out_banner, Parent: None, ID: None, Name:  Bút Trình Chiếu (72)\n",
            ", URL: https://tiki.vn/but-trinh-chieu/c28688?src=c.1815.hamburger_menu_fly_out_banner, Parent: None, ID: None, Name:  Các Loại Cáp Chuyển Đổi (3574)\n",
            ", URL: https://tiki.vn/cac-loai-cap-chuyen-doi/c12296?src=c.1815.hamburger_menu_fly_out_banner, Parent: None, ID: None, Name:  Công Cụ Đồ Họa - Thiết Bị Cảm Ứng (62)\n",
            ", URL: https://tiki.vn/cong-cu-do-hoa-thiet-bi-cam-ung/c28706?src=c.1815.hamburger_menu_fly_out_banner, Parent: None, ID: None, Name:  Dụng Cụ Vệ Sinh và Sửa Chữa (54)\n",
            ", URL: https://tiki.vn/dung-cu-ve-sinh-va-sua-chua/c28672?src=c.1815.hamburger_menu_fly_out_banner, Parent: None, ID: None, Name:  Phụ Kiện Laptop (6542)\n",
            ", URL: https://tiki.vn/phu-kien-laptop/c7795?src=c.1815.hamburger_menu_fly_out_banner, Parent: None, ID: None, Name:  Phụ Kiện Phím Chuột Chơi Game (1170)\n",
            ", URL: https://tiki.vn/phu-kien-phim-chuot-choi-game/c28692?src=c.1815.hamburger_menu_fly_out_banner, Parent: None, ID: None, Name:  Phụ Kiện Phím Chuột Văn Phòng (972)\n",
            ", URL: https://tiki.vn/phu-kien-phim-chuot-van-phong/c28690?src=c.1815.hamburger_menu_fly_out_banner, Parent: None, ID: None, Name:  Tai Nghe Máy Tính (311)\n",
            ", URL: https://tiki.vn/tai-nghe-may-tinh/c28702?src=c.1815.hamburger_menu_fly_out_banner, Parent: None, ID: None, Name:  Webcam Máy Tính (60)\n",
            ", URL: https://tiki.vn/webcam-may-tinh/c4880?src=c.1815.hamburger_menu_fly_out_banner, Parent: None]\n",
            "[]\n",
            "[]\n",
            "[ID: None, Name:  Bộ Chuyển Đổi Khác (156)\n",
            ", URL: https://tiki.vn/bo-chuyen-doi-khac/c28736?src=c.1815.hamburger_menu_fly_out_banner, Parent: None, ID: None, Name:  Bộ Chuyển Đổi Tín Hiệu HDMI/VGA/DVI/DP (864)\n",
            ", URL: https://tiki.vn/bo-chuyen-doi-tin-hieu-hdmivgadvidp/c28738?src=c.1815.hamburger_menu_fly_out_banner, Parent: None, ID: None, Name:  Cáp HDMI - Displayport (995)\n",
            ", URL: https://tiki.vn/cap-hdmi-displayport/c3804?src=c.1815.hamburger_menu_fly_out_banner, Parent: None, ID: None, Name:  Cáp Song Song - Cáp Máy In - Cáp Serial (69)\n",
            ", URL: https://tiki.vn/cap-song-song-cap-may-in-cap-serial/c28740?src=c.1815.hamburger_menu_fly_out_banner, Parent: None, ID: None, Name:  Dây Cáp SATA (23)\n",
            ", URL: https://tiki.vn/day-cap-sata/c28718?src=c.1815.hamburger_menu_fly_out_banner, Parent: None, ID: None, Name:  Dây Cáp Thunderbolt (3)\n",
            ", URL: https://tiki.vn/day-cap-thunderbolt/c28720?src=c.1815.hamburger_menu_fly_out_banner, Parent: None, ID: None, Name:  Dây Cáp Tín Hiệu Khác (116)\n",
            ", URL: https://tiki.vn/day-cap-tin-hieu-khac/c28726?src=c.1815.hamburger_menu_fly_out_banner, Parent: None, ID: None, Name:  Dây Cáp USB (292)\n",
            ", URL: https://tiki.vn/day-cap-usb/c28722?src=c.1815.hamburger_menu_fly_out_banner, Parent: None, ID: None, Name:  Dây Cáp VGA-DVI (297)\n",
            ", URL: https://tiki.vn/day-cap-vga-dvi/c28724?src=c.1815.hamburger_menu_fly_out_banner, Parent: None, ID: None, Name:  Dây Nguồn (24)\n",
            ", URL: https://tiki.vn/day-nguon/c28716?src=c.1815.hamburger_menu_fly_out_banner, Parent: None, ID: None, Name:  Hub Chuyển Đổi USB Type-C (322)\n",
            ", URL: https://tiki.vn/hub-chuyen-doi-usb-type-c/c4593?src=c.1815.hamburger_menu_fly_out_banner, Parent: None, ID: None, Name:  Hub Chuyển Đổi USB-A (28)\n",
            ", URL: https://tiki.vn/hub-chuyen-doi-usb-a/c28734?src=c.1815.hamburger_menu_fly_out_banner, Parent: None, ID: None, Name:  Hub USB (287)\n",
            ", URL: https://tiki.vn/hub-usb/c8519?src=c.1815.hamburger_menu_fly_out_banner, Parent: None, ID: None, Name:  Đầu Đọc Thẻ Nhớ (97)\n",
            ", URL: https://tiki.vn/dau-doc-the-nho/c28732?src=c.1815.hamburger_menu_fly_out_banner, Parent: None]\n",
            "[]\n",
            "[]\n",
            "[]\n",
            "[]\n",
            "[]\n",
            "[]\n",
            "[]\n",
            "[]\n",
            "[]\n",
            "[]\n",
            "[]\n",
            "[]\n",
            "[]\n",
            "[]\n",
            "[ID: None, Name:  Bàn Rê Touchpad Cảm Ứng (1)\n",
            ", URL: https://tiki.vn/ban-re-touchpad-cam-ung/c28710?src=c.1815.hamburger_menu_fly_out_banner, Parent: None, ID: None, Name:  Bút Vẽ Đồ Họa Cảm Ứng (3)\n",
            ", URL: https://tiki.vn/but-ve-do-hoa-cam-ung/c28708?src=c.1815.hamburger_menu_fly_out_banner, Parent: None, ID: None, Name:  Bảng Vẽ Đồ Họa Cảm Ứng (37)\n",
            ", URL: https://tiki.vn/bang-ve-do-hoa-cam-ung/c12876?src=c.1815.hamburger_menu_fly_out_banner, Parent: None, ID: None, Name:  Thiết Bị Cân Bằng Màu (4)\n",
            ", URL: https://tiki.vn/thiet-bi-can-bang-mau/c28712?src=c.1815.hamburger_menu_fly_out_banner, Parent: None, ID: None, Name:  Thiết Bị Đồ Họa và Công Cụ Khác (16)\n",
            ", URL: https://tiki.vn/thiet-bi-do-hoa-va-cong-cu-khac/c28714?src=c.1815.hamburger_menu_fly_out_banner, Parent: None]\n",
            "[]\n",
            "[]\n",
            "[]\n",
            "[]\n",
            "[]\n",
            "[ID: None, Name:  Dụng Cụ Vệ Sinh (54)\n",
            ", URL: https://tiki.vn/dung-cu-ve-sinh/c28674?src=c.1815.hamburger_menu_fly_out_banner, Parent: None]\n",
            "[]\n",
            "[ID: None, Name:  Case - Vỏ Ốp Lưng Laptop (86)\n",
            ", URL: https://tiki.vn/case-vo-op-lung-laptop/c28684?src=c.1815.hamburger_menu_fly_out_banner, Parent: None, ID: None, Name:  Dây Chống Trộm Laptop (8)\n",
            ", URL: https://tiki.vn/day-chong-trom-laptop/c28678?src=c.1815.hamburger_menu_fly_out_banner, Parent: None, ID: None, Name:  Giá Đỡ Laptop (65)\n",
            ", URL: https://tiki.vn/gia-do-laptop/c28682?src=c.1815.hamburger_menu_fly_out_banner, Parent: None, ID: None, Name:  Miếng Phủ Bàn Phím Laptop (56)\n",
            ", URL: https://tiki.vn/mieng-phu-ban-phim-laptop/c28686?src=c.1815.hamburger_menu_fly_out_banner, Parent: None, ID: None, Name:  Skin và Decal Dán Laptop (6248)\n",
            ", URL: https://tiki.vn/skin-va-decal-dan-laptop/c28680?src=c.1815.hamburger_menu_fly_out_banner, Parent: None, ID: None, Name:  Đế Tản Nhiệt Laptop (74)\n",
            ", URL: https://tiki.vn/de-tan-nhiet-laptop/c1832?src=c.1815.hamburger_menu_fly_out_banner, Parent: None]\n",
            "[]\n",
            "[]\n",
            "[]\n",
            "[]\n",
            "[]\n",
            "[]\n",
            "[ID: None, Name:  Bàn Phím Chơi Game (503)\n",
            ", URL: https://tiki.vn/ban-phim-choi-game/c5267?src=c.1815.hamburger_menu_fly_out_banner, Parent: None, ID: None, Name:  Bộ Phím Chuột Chơi Game (102)\n",
            ", URL: https://tiki.vn/bo-phim-chuot-choi-game/c28696?src=c.1815.hamburger_menu_fly_out_banner, Parent: None, ID: None, Name:  Chuột Chơi Game (554)\n",
            ", URL: https://tiki.vn/chuot-choi-game/c3428?src=c.1815.hamburger_menu_fly_out_banner, Parent: None, ID: None, Name:  Phụ Kiện Phím Chuột Chơi Game Khác (7)\n",
            ", URL: https://tiki.vn/phu-kien-phim-chuot-choi-game-khac/c28698?src=c.1815.hamburger_menu_fly_out_banner, Parent: None]\n",
            "[]\n",
            "[]\n",
            "[]\n",
            "[]\n",
            "[ID: None, Name:  Bàn Phím Văn Phòng (198)\n",
            ", URL: https://tiki.vn/ban-phim-van-phong/c1830?src=c.1815.hamburger_menu_fly_out_banner, Parent: None, ID: None, Name:  Bộ Phím Chuột Văn Phòng (181)\n",
            ", URL: https://tiki.vn/bo-phim-chuot-van-phong/c1836?src=c.1815.hamburger_menu_fly_out_banner, Parent: None, ID: None, Name:  Chuột Văn Phòng (557)\n",
            ", URL: https://tiki.vn/chuot-van-phong/c1829?src=c.1815.hamburger_menu_fly_out_banner, Parent: None, ID: None, Name:  Phụ Kiện Phím Chuột Văn Phòng Khác (15)\n",
            ", URL: https://tiki.vn/phu-kien-phim-chuot-van-phong-khac/c28694?src=c.1815.hamburger_menu_fly_out_banner, Parent: None]\n",
            "[ID: None, Name:  Bàn Phím Văn Phòng Có Dây (190)\n",
            ", URL: https://tiki.vn/ban-phim-van-phong-co-day/c5263?src=c.1815.hamburger_menu_fly_out_banner, Parent: None, ID: None, Name:  Bàn Phím Văn Phòng Không Dây (79)\n",
            ", URL: https://tiki.vn/ban-phim-van-phong-khong-day/c5264?src=c.1815.hamburger_menu_fly_out_banner, Parent: None]\n",
            "[]\n",
            "[]\n",
            "[]\n",
            "[ID: None, Name:  Chuột Văn Phòng Có Dây (220)\n",
            ", URL: https://tiki.vn/chuot-van-phong-co-day/c1837?src=c.1815.hamburger_menu_fly_out_banner, Parent: None, ID: None, Name:  Chuột Văn Phòng Không Dây (502)\n",
            ", URL: https://tiki.vn/chuot-van-phong-khong-day/c1838?src=c.1815.hamburger_menu_fly_out_banner, Parent: None]\n",
            "[]\n",
            "[]\n",
            "[]\n",
            "[ID: None, Name:  Tai Nghe Chơi Game (306)\n",
            ", URL: https://tiki.vn/tai-nghe-choi-game/c2971?src=c.1815.hamburger_menu_fly_out_banner, Parent: None, ID: None, Name:  Tai Nghe Văn Phòng - Headset (4)\n",
            ", URL: https://tiki.vn/tai-nghe-van-phong-headset/c28704?src=c.1815.hamburger_menu_fly_out_banner, Parent: None]\n",
            "[]\n",
            "[]\n",
            "[]\n",
            "[ID: None, Name:  Ghế Gaming (130)\n",
            ", URL: https://tiki.vn/ghe-gaming/c7273?src=c.1815.hamburger_menu_fly_out_banner, Parent: None, ID: None, Name:  Máy Chơi Game - Console (150)\n",
            ", URL: https://tiki.vn/may-choi-game-console/c8251?src=c.1815.hamburger_menu_fly_out_banner, Parent: None, ID: None, Name:  Phụ Kiện Gaming (344)\n",
            ", URL: https://tiki.vn/phu-kien-gaming/c6742?src=c.1815.hamburger_menu_fly_out_banner, Parent: None, ID: None, Name:  Tay Bấm Game - Thiết Bị Điều Khiển (264)\n",
            ", URL: https://tiki.vn/tay-bam-game-thiet-bi-dieu-khien/c9013?src=c.1815.hamburger_menu_fly_out_banner, Parent: None, ID: None, Name:  Đĩa Game (207)\n",
            ", URL: https://tiki.vn/dia-game/c12676?src=c.1815.hamburger_menu_fly_out_banner, Parent: None]\n",
            "[]\n",
            "[ID: None, Name:  Máy Chơi Game Khác (81)\n",
            ", URL: https://tiki.vn/may-choi-game-khac/c28398?src=c.1815.hamburger_menu_fly_out_banner, Parent: None, ID: None, Name:  Nintendo (2)\n",
            ", URL: https://tiki.vn/nintendo/c28396?src=c.1815.hamburger_menu_fly_out_banner, Parent: None, ID: None, Name:  PlayStation (59)\n",
            ", URL: https://tiki.vn/playstation/c28392?src=c.1815.hamburger_menu_fly_out_banner, Parent: None]\n",
            "[]\n",
            "[]\n",
            "[]\n",
            "[]\n",
            "[]\n",
            "[]\n",
            "[ID: None, Name:  Mạch Điện Lập Trình và Linh Kiện Điện Tử (1183)\n",
            ", URL: https://tiki.vn/mach-dien-lap-trinh-va-linh-kien-dien-tu/c20246?src=c.1815.hamburger_menu_fly_out_banner, Parent: None, ID: None, Name:  Thiết Bị Số - Thiết Bị Thông Minh (432)\n",
            ", URL: https://tiki.vn/thiet-bi-so-thiet-bi-thong-minh/c28436?src=c.1815.hamburger_menu_fly_out_banner, Parent: None]\n",
            "[ID: None, Name:  Các Module Tích Hợp (519)\n",
            ", URL: https://tiki.vn/cac-module-tich-hop/c20250?src=c.1815.hamburger_menu_fly_out_banner, Parent: None, ID: None, Name:  Cảm Biến (133)\n",
            ", URL: https://tiki.vn/cam-bien/c20252?src=c.1815.hamburger_menu_fly_out_banner, Parent: None, ID: None, Name:  Dây, Cáp Nối và Adapter Nguồn (40)\n",
            ", URL: https://tiki.vn/day-cap-noi-va-adapter-nguon/c28434?src=c.1815.hamburger_menu_fly_out_banner, Parent: None, ID: None, Name:  Linh Kiện và Các Phần Cứng Khác (442)\n",
            ", URL: https://tiki.vn/linh-kien-va-cac-phan-cung-khac/c20254?src=c.1815.hamburger_menu_fly_out_banner, Parent: None, ID: None, Name:  Máy Tính Nhúng - Kit Phát Triển (20)\n",
            ", URL: https://tiki.vn/may-tinh-nhung-kit-phat-trien/c20248?src=c.1815.hamburger_menu_fly_out_banner, Parent: None, ID: None, Name:  Phụ Kiện và Dụng Cụ Khác (103)\n",
            ", URL: https://tiki.vn/phu-kien-va-dung-cu-khac/c20258?src=c.1815.hamburger_menu_fly_out_banner, Parent: None, ID: None, Name:  Thiết Bị Robot (7)\n",
            ", URL: https://tiki.vn/thiet-bi-robot/c20256?src=c.1815.hamburger_menu_fly_out_banner, Parent: None]\n",
            "[]\n",
            "[]\n",
            "[]\n",
            "[]\n",
            "[]\n",
            "[]\n",
            "[]\n",
            "[ID: None, Name:  Kim Từ Điển và Các Loại Máy Thông Dịch (4)\n",
            ", URL: https://tiki.vn/kim-tu-dien-va-cac-loai-may-thong-dich/c28446?src=c.1815.hamburger_menu_fly_out_banner, Parent: None, ID: None, Name:  Máy Bộ Đàm (146)\n",
            ", URL: https://tiki.vn/may-bo-dam/c8044?src=c.1815.hamburger_menu_fly_out_banner, Parent: None, ID: None, Name:  Thiết Bị Nhà Thông Minh (181)\n",
            ", URL: https://tiki.vn/thiet-bi-nha-thong-minh/c12864?src=c.1815.hamburger_menu_fly_out_banner, Parent: None, ID: None, Name:  Thiết Bị Định Vị GPS (31)\n",
            ", URL: https://tiki.vn/thiet-bi-dinh-vi-gps/c28444?src=c.1815.hamburger_menu_fly_out_banner, Parent: None, ID: None, Name:  Đồ Chơi Công Nghệ - Thiết Bị Số và Phụ Kiện Số Khác (64)\n",
            ", URL: https://tiki.vn/do-choi-cong-nghe-thiet-bi-so-va-phu-kien-so-khac/c10413?src=c.1815.hamburger_menu_fly_out_banner, Parent: None]\n",
            "[]\n",
            "[]\n",
            "[]\n",
            "[]\n",
            "[]\n",
            "[ID: None, Name:  DAC và Amplifier Di Động (78)\n",
            ", URL: https://tiki.vn/dac-va-amplifier-di-dong/c20170?src=c.1815.hamburger_menu_fly_out_banner, Parent: None, ID: None, Name:  Loa Nghe Nhạc (3067)\n",
            ", URL: https://tiki.vn/loa-nghe-nhac/c1805?src=c.1815.hamburger_menu_fly_out_banner, Parent: None, ID: None, Name:  Micro (282)\n",
            ", URL: https://tiki.vn/micro/c28642?src=c.1815.hamburger_menu_fly_out_banner, Parent: None, ID: None, Name:  Máy Thu và Máy Phát Âm Thanh (212)\n",
            ", URL: https://tiki.vn/may-thu-va-may-phat-am-thanh/c28656?src=c.1815.hamburger_menu_fly_out_banner, Parent: None, ID: None, Name:  Phụ Kiện Âm Thanh (976)\n",
            ", URL: https://tiki.vn/phu-kien-am-thanh/c30374?src=c.1815.hamburger_menu_fly_out_banner, Parent: None, ID: None, Name:  Tai Nghe Bluetooth (2148)\n",
            ", URL: https://tiki.vn/tai-nghe-bluetooth/c1811?src=c.1815.hamburger_menu_fly_out_banner, Parent: None, ID: None, Name:  Tai Nghe Có Dây (1864)\n",
            ", URL: https://tiki.vn/tai-nghe-co-day/c1804?src=c.1815.hamburger_menu_fly_out_banner, Parent: None]\n",
            "[]\n",
            "ERROR BY REQUEST: ('Connection broken: IncompleteRead(0 bytes read)', IncompleteRead(0 bytes read))\n"
          ],
          "name": "stdout"
        },
        {
          "output_type": "error",
          "ename": "AttributeError",
          "evalue": "ignored",
          "traceback": [
            "\u001b[0;31m---------------------------------------------------------------------------\u001b[0m",
            "\u001b[0;31mAttributeError\u001b[0m                            Traceback (most recent call last)",
            "\u001b[0;32m<ipython-input-45-68d3ed2e987d>\u001b[0m in \u001b[0;36m<module>\u001b[0;34m()\u001b[0m\n\u001b[0;32m----> 1\u001b[0;31m \u001b[0mget_all_categories\u001b[0m\u001b[0;34m(\u001b[0m\u001b[0mmain_categories\u001b[0m\u001b[0;34m)\u001b[0m\u001b[0;34m\u001b[0m\u001b[0;34m\u001b[0m\u001b[0m\n\u001b[0m",
            "\u001b[0;32m<ipython-input-44-702560f95358>\u001b[0m in \u001b[0;36mget_all_categories\u001b[0;34m(categories)\u001b[0m\n\u001b[1;32m      6\u001b[0m         \u001b[0msub_categories\u001b[0m \u001b[0;34m=\u001b[0m \u001b[0mget_sub_categories\u001b[0m\u001b[0;34m(\u001b[0m\u001b[0mcat\u001b[0m\u001b[0;34m)\u001b[0m\u001b[0;34m\u001b[0m\u001b[0;34m\u001b[0m\u001b[0m\n\u001b[1;32m      7\u001b[0m         \u001b[0mprint\u001b[0m\u001b[0;34m(\u001b[0m\u001b[0msub_categories\u001b[0m\u001b[0;34m)\u001b[0m\u001b[0;34m\u001b[0m\u001b[0;34m\u001b[0m\u001b[0m\n\u001b[0;32m----> 8\u001b[0;31m         \u001b[0mget_all_categories\u001b[0m\u001b[0;34m(\u001b[0m\u001b[0msub_categories\u001b[0m\u001b[0;34m)\u001b[0m\u001b[0;34m\u001b[0m\u001b[0;34m\u001b[0m\u001b[0m\n\u001b[0m",
            "\u001b[0;32m<ipython-input-44-702560f95358>\u001b[0m in \u001b[0;36mget_all_categories\u001b[0;34m(categories)\u001b[0m\n\u001b[1;32m      6\u001b[0m         \u001b[0msub_categories\u001b[0m \u001b[0;34m=\u001b[0m \u001b[0mget_sub_categories\u001b[0m\u001b[0;34m(\u001b[0m\u001b[0mcat\u001b[0m\u001b[0;34m)\u001b[0m\u001b[0;34m\u001b[0m\u001b[0;34m\u001b[0m\u001b[0m\n\u001b[1;32m      7\u001b[0m         \u001b[0mprint\u001b[0m\u001b[0;34m(\u001b[0m\u001b[0msub_categories\u001b[0m\u001b[0;34m)\u001b[0m\u001b[0;34m\u001b[0m\u001b[0;34m\u001b[0m\u001b[0m\n\u001b[0;32m----> 8\u001b[0;31m         \u001b[0mget_all_categories\u001b[0m\u001b[0;34m(\u001b[0m\u001b[0msub_categories\u001b[0m\u001b[0;34m)\u001b[0m\u001b[0;34m\u001b[0m\u001b[0;34m\u001b[0m\u001b[0m\n\u001b[0m",
            "\u001b[0;32m<ipython-input-44-702560f95358>\u001b[0m in \u001b[0;36mget_all_categories\u001b[0;34m(categories)\u001b[0m\n\u001b[1;32m      4\u001b[0m         \u001b[0;32mreturn\u001b[0m\u001b[0;34m\u001b[0m\u001b[0;34m\u001b[0m\u001b[0m\n\u001b[1;32m      5\u001b[0m     \u001b[0;32mfor\u001b[0m \u001b[0mcat\u001b[0m \u001b[0;32min\u001b[0m \u001b[0mcategories\u001b[0m\u001b[0;34m:\u001b[0m\u001b[0;34m\u001b[0m\u001b[0;34m\u001b[0m\u001b[0m\n\u001b[0;32m----> 6\u001b[0;31m         \u001b[0msub_categories\u001b[0m \u001b[0;34m=\u001b[0m \u001b[0mget_sub_categories\u001b[0m\u001b[0;34m(\u001b[0m\u001b[0mcat\u001b[0m\u001b[0;34m)\u001b[0m\u001b[0;34m\u001b[0m\u001b[0;34m\u001b[0m\u001b[0m\n\u001b[0m\u001b[1;32m      7\u001b[0m         \u001b[0mprint\u001b[0m\u001b[0;34m(\u001b[0m\u001b[0msub_categories\u001b[0m\u001b[0;34m)\u001b[0m\u001b[0;34m\u001b[0m\u001b[0;34m\u001b[0m\u001b[0m\n\u001b[1;32m      8\u001b[0m         \u001b[0mget_all_categories\u001b[0m\u001b[0;34m(\u001b[0m\u001b[0msub_categories\u001b[0m\u001b[0;34m)\u001b[0m\u001b[0;34m\u001b[0m\u001b[0;34m\u001b[0m\u001b[0m\n",
            "\u001b[0;32m<ipython-input-39-3ba85852f90b>\u001b[0m in \u001b[0;36mget_sub_categories\u001b[0;34m(parent_category, save_db)\u001b[0m\n\u001b[1;32m      7\u001b[0m \u001b[0;34m\u001b[0m\u001b[0m\n\u001b[1;32m      8\u001b[0m     \u001b[0msoup\u001b[0m \u001b[0;34m=\u001b[0m \u001b[0mget_url\u001b[0m\u001b[0;34m(\u001b[0m\u001b[0murl\u001b[0m\u001b[0;34m)\u001b[0m\u001b[0;34m\u001b[0m\u001b[0;34m\u001b[0m\u001b[0m\n\u001b[0;32m----> 9\u001b[0;31m     \u001b[0mdiv_containers\u001b[0m \u001b[0;34m=\u001b[0m \u001b[0msoup\u001b[0m\u001b[0;34m.\u001b[0m\u001b[0mfind_all\u001b[0m\u001b[0;34m(\u001b[0m\u001b[0;34m'div'\u001b[0m\u001b[0;34m,\u001b[0m \u001b[0;34m{\u001b[0m\u001b[0;34m'class'\u001b[0m\u001b[0;34m:\u001b[0m\u001b[0;34m'list-group-item is-child'\u001b[0m\u001b[0;34m}\u001b[0m\u001b[0;34m)\u001b[0m\u001b[0;34m\u001b[0m\u001b[0;34m\u001b[0m\u001b[0m\n\u001b[0m\u001b[1;32m     10\u001b[0m     \u001b[0;32mfor\u001b[0m \u001b[0mdiv\u001b[0m \u001b[0;32min\u001b[0m \u001b[0mdiv_containers\u001b[0m\u001b[0;34m:\u001b[0m\u001b[0;34m\u001b[0m\u001b[0;34m\u001b[0m\u001b[0m\n\u001b[1;32m     11\u001b[0m         \u001b[0mname\u001b[0m \u001b[0;34m=\u001b[0m \u001b[0mdiv\u001b[0m\u001b[0;34m.\u001b[0m\u001b[0ma\u001b[0m\u001b[0;34m.\u001b[0m\u001b[0mtext\u001b[0m\u001b[0;34m\u001b[0m\u001b[0;34m\u001b[0m\u001b[0m\n",
            "\u001b[0;31mAttributeError\u001b[0m: 'NoneType' object has no attribute 'find_all'"
          ]
        }
      ]
    },
    {
      "cell_type": "code",
      "metadata": {
        "id": "RjFw5YSv1OM1",
        "colab_type": "code",
        "colab": {}
      },
      "source": [
        "# To get the product, we need to get the lowest level categories and crawl from their urls (SELECT query)"
      ],
      "execution_count": 0,
      "outputs": []
    }
  ]
}